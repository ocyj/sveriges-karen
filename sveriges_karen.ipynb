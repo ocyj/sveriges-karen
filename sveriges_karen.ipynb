{
 "cells": [
  {
   "cell_type": "markdown",
   "metadata": {},
   "source": [
    "# Who are the *Karen* of Sweden?"
   ]
  },
  {
   "cell_type": "code",
   "execution_count": null,
   "metadata": {},
   "outputs": [],
   "source": [
    "from os import listdir\n",
    "from os.path import isfile, join\n",
    "import csv\n",
    "import matplotlib.pyplot as plt\n",
    "import random\n",
    "random.seed(1957)"
   ]
  },
  {
   "cell_type": "code",
   "execution_count": null,
   "metadata": {},
   "outputs": [],
   "source": [
    "us_data_path = r'original_data\\ssa_names'\n",
    "us_file_names = [f for f in listdir(us_data_path) if isfile(join(us_data_path, f)) and f.endswith('.txt')]\n",
    "\n",
    "# Swedish data is from 1920 (including) to 2019 (including)\n",
    "# US data is from 1880 (including) to 2018 (including)\n",
    "\n",
    "def find_year_of_us_file(file_name: str) -> int:\n",
    "    return int(file_name.replace('yob','').replace('.txt',''))\n",
    "\n",
    "us_file_names = [file for file in us_file_names if 1920 <= find_year_of_us_file(file) <= 2018]"
   ]
  },
  {
   "cell_type": "code",
   "execution_count": null,
   "metadata": {},
   "outputs": [],
   "source": [
    "def extract_number_of_karens_from_file(file_name: str):\n",
    "    year = find_year_of_us_file(file_name)\n",
    "    with open(f'{us_data_path}\\\\{file_name}') as f:\n",
    "        karens = [int(name.replace('Karen,F,','')) for name in f.readlines() if name.startswith('Karen,F,')][0]\n",
    "        return (year, karens)\n",
    "\n",
    "karen_stats = [(year, karens) for year, karens in map(extract_number_of_karens_from_file, us_file_names)]\n",
    "karen_peak_year, karen_peak_number = max(karen_stats, key=lambda x: x[1])\n",
    "print(f'Popularity of Karen peaked in {karen_peak_year} with {karen_peak_number} girls born.')\n",
    "karen_stats_normalized = [(year, karens/karen_peak_number) for year, karens in karen_stats]"
   ]
  },
  {
   "cell_type": "code",
   "execution_count": null,
   "metadata": {
    "scrolled": true
   },
   "outputs": [],
   "source": [
    "year, karens = zip(*karen_stats) \n",
    "plt.plot(year, karens)\n",
    "plt.title('Number of girls named Karen borned by year')\n",
    "plt.xlabel('Year')\n",
    "plt.show()\n",
    "\n",
    "year, karens_normalized = zip(*karen_stats_normalized) "
   ]
  },
  {
   "cell_type": "code",
   "execution_count": null,
   "metadata": {},
   "outputs": [],
   "source": [
    "se_data_path = r'original_data\\BE0001AN.csv'\n",
    "with open(se_data_path, newline='') as csvfile:\n",
    "    reader = csv.DictReader(csvfile, delimiter=';')\n",
    "    years = [int(fn) for fn in reader.fieldnames[1:]]\n",
    "    swedish_names = []\n",
    "    for name in reader:\n",
    "        name_dict = {'name': name['tilltalsnamn']}\n",
    "        name_dict['data'] = [(int(year), int(number) if number != '..' else None) for year, number in name.items() if year != 'tilltalsnamn']\n",
    "        _, peak_number = max(name_dict['data'], key=lambda x: x[1] or 0)\n",
    "        name_dict['normalized_data'] = [(year, (number_born or 0)/peak_number) for year, number_born in name_dict['data']]\n",
    "        swedish_names.append(name_dict)"
   ]
  },
  {
   "cell_type": "code",
   "execution_count": null,
   "metadata": {},
   "outputs": [],
   "source": [
    "r_idx = random.sample(range(len(swedish_names)), 5)\n",
    "\n",
    "for i in r_idx:\n",
    "    name = swedish_names[i]\n",
    "    years, numbers = zip(*name['data'])\n",
    "    _, normalized_numbers = zip(*name['normalized_data'])\n",
    "    plt.figure(1)\n",
    "    plt.plot(years, numbers, label=f\"{name['name']} ({i}:th)\")\n",
    "    plt.figure(2)\n",
    "    plt.plot(years, [100*n for n in normalized_numbers], label=f\"{name['name']} ({i}:th)\")\n",
    "\n",
    "plt.figure(1)\n",
    "plt.title('Birth year distribution of some Swedish names')\n",
    "plt.xlabel('Year')\n",
    "plt.ylabel('Number born')\n",
    "plt.figure(2)\n",
    "plt.title('Relative birth year of some Swedish names')\n",
    "plt.xlabel('Year')\n",
    "plt.ylabel('%')\n",
    "plt.legend()\n",
    "plt.show()"
   ]
  },
  {
   "cell_type": "code",
   "execution_count": null,
   "metadata": {
    "scrolled": true
   },
   "outputs": [],
   "source": [
    "def karen_likeness(swedish_name):\n",
    "    years, numbers = zip(*swedish_name['normalized_data'])\n",
    "    return 1/sum([abs(karen_normalized - swedish_name_normalized)\n",
    "                for (karen_normalized, swedish_name_normalized)\n",
    "                in zip(karens_normalized, numbers[:-1])\n",
    "                if swedish_name_normalized is not None])\n",
    "\n",
    "swedish_names.sort(key=karen_likeness, reverse=True)\n",
    "print('Top five Karen-like swedish names:')\n",
    "print(*[f\"{i+1}:\\t{name['name']}\\t({karen_likeness(name):.4f})\" for i, name in enumerate(swedish_names[:5])], sep='\\n')\n",
    "print('\\nTop five Karen-unlike swedish names:')\n",
    "print(*[f\"{i+1}:\\t{name['name']}\\t({karen_likeness(name):.4f})\" for i, name in enumerate(swedish_names[:-6:-1])], sep='\\n')"
   ]
  },
  {
   "cell_type": "code",
   "execution_count": null,
   "metadata": {},
   "outputs": [],
   "source": []
  }
 ],
 "metadata": {
  "kernelspec": {
   "display_name": "Python 3",
   "language": "python",
   "name": "python3"
  },
  "language_info": {
   "codemirror_mode": {
    "name": "ipython",
    "version": 3
   },
   "file_extension": ".py",
   "mimetype": "text/x-python",
   "name": "python",
   "nbconvert_exporter": "python",
   "pygments_lexer": "ipython3",
   "version": "3.8.3"
  }
 },
 "nbformat": 4,
 "nbformat_minor": 4
}
